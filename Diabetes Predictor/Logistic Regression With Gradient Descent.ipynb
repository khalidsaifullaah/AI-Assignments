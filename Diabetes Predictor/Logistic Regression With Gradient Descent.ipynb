{
 "cells": [
  {
   "cell_type": "code",
   "execution_count": 14,
   "metadata": {
    "colab": {},
    "colab_type": "code",
    "id": "ZKh7r4wLW0yu"
   },
   "outputs": [],
   "source": [
    "import numpy as np\n",
    "import pandas as pd\n",
    "import matplotlib.pyplot as plt"
   ]
  },
  {
   "cell_type": "code",
   "execution_count": 2,
   "metadata": {
    "colab": {},
    "colab_type": "code",
    "id": "IoNSQEPHW0yx"
   },
   "outputs": [],
   "source": [
    "def scale_data(data):\n",
    "    for i in data.columns:\n",
    "        if i != \"Outcome\":\n",
    "          data[i] = (data[i] - data[i].mean()) / (data[i].max() - data[i].min())\n",
    "          # data[i] = (data[i] - data[i].mean()) / data[i].std()\n",
    "    return data"
   ]
  },
  {
   "cell_type": "code",
   "execution_count": 13,
   "metadata": {
    "colab": {},
    "colab_type": "code",
    "id": "RRIUB89wW0y0"
   },
   "outputs": [],
   "source": [
    "def plot_data():\n",
    "    # y = target values, last column of the data frame\n",
    "    y = data.iloc[:, -1]\n",
    "    # filter out the people who has diabetes\n",
    "    has_diabetes = data.loc[y == 1]\n",
    "\n",
    "    # filter out the people who doesn't have diabetes\n",
    "    no_diabetes = data.loc[y == 0]\n",
    "    # plots\n",
    "    plt.scatter(has_diabetes.iloc[:, 0], has_diabetes.iloc[:, 1], s=10, label='has_diabetes')\n",
    "    plt.scatter(no_diabetes.iloc[:, 0], no_diabetes.iloc[:, 1], s=10, label='no_diabetes')\n",
    "    plt.legend()\n",
    "    plt.show()"
   ]
  },
  {
   "cell_type": "code",
   "execution_count": 4,
   "metadata": {
    "colab": {
     "base_uri": "https://localhost:8080/",
     "height": 667
    },
    "colab_type": "code",
    "executionInfo": {
     "elapsed": 1324,
     "status": "ok",
     "timestamp": 1584022301206,
     "user": {
      "displayName": "Khalid Saifullah",
      "photoUrl": "https://lh3.googleusercontent.com/a-/AOh14Gj_MeQufQvSNr_z_NKJLRhQVH2vWB1E-_fnwg5bdQ=s64",
      "userId": "15265892266278113921"
     },
     "user_tz": -360
    },
    "id": "-3Yo4DDxW0y2",
    "outputId": "5beffa0c-f05a-4ea9-f756-649e06ad8531"
   },
   "outputs": [
    {
     "data": {
      "image/png": "[encoded data removed]",
      "text/plain": [
       "<Figure size 432x288 with 1 Axes>"
      ]
     },
     "metadata": {
      "needs_background": "light"
     },
     "output_type": "display_data"
    },
    {
     "data": {
      "text/html": [
       "<div>\n",
       "<style scoped>\n",
       "    .dataframe tbody tr th:only-of-type {\n",
       "        vertical-align: middle;\n",
       "    }\n",
       "\n",
       "    .dataframe tbody tr th {\n",
       "        vertical-align: top;\n",
       "    }\n",
       "\n",
       "    .dataframe thead th {\n",
       "        text-align: right;\n",
       "    }\n",
       "</style>\n",
       "<table border=\"1\" class=\"dataframe\">\n",
       "  <thead>\n",
       "    <tr style=\"text-align: right;\">\n",
       "      <th></th>\n",
       "      <th>Glucose</th>\n",
       "      <th>BloodPressure</th>\n",
       "      <th>SkinThickness</th>\n",
       "      <th>Insulin</th>\n",
       "      <th>BMI</th>\n",
       "      <th>DiabetesPedigreeFunction</th>\n",
       "      <th>Age</th>\n",
       "      <th>Outcome</th>\n",
       "    </tr>\n",
       "  </thead>\n",
       "  <tbody>\n",
       "    <tr>\n",
       "      <td>0</td>\n",
       "      <td>0.136208</td>\n",
       "      <td>0.023726</td>\n",
       "      <td>0.146096</td>\n",
       "      <td>-0.094326</td>\n",
       "      <td>0.023956</td>\n",
       "      <td>0.066236</td>\n",
       "      <td>0.279319</td>\n",
       "      <td>1</td>\n",
       "    </tr>\n",
       "    <tr>\n",
       "      <td>1</td>\n",
       "      <td>-0.180375</td>\n",
       "      <td>-0.025455</td>\n",
       "      <td>0.085490</td>\n",
       "      <td>-0.094326</td>\n",
       "      <td>-0.080366</td>\n",
       "      <td>-0.051612</td>\n",
       "      <td>-0.037348</td>\n",
       "      <td>0</td>\n",
       "    </tr>\n",
       "    <tr>\n",
       "      <td>2</td>\n",
       "      <td>0.312088</td>\n",
       "      <td>-0.041848</td>\n",
       "      <td>-0.207439</td>\n",
       "      <td>-0.094326</td>\n",
       "      <td>-0.129547</td>\n",
       "      <td>0.085450</td>\n",
       "      <td>-0.020681</td>\n",
       "      <td>1</td>\n",
       "    </tr>\n",
       "    <tr>\n",
       "      <td>3</td>\n",
       "      <td>-0.160274</td>\n",
       "      <td>-0.025455</td>\n",
       "      <td>0.024884</td>\n",
       "      <td>0.016785</td>\n",
       "      <td>-0.058012</td>\n",
       "      <td>-0.130178</td>\n",
       "      <td>-0.204015</td>\n",
       "      <td>0</td>\n",
       "    </tr>\n",
       "    <tr>\n",
       "      <td>4</td>\n",
       "      <td>0.080932</td>\n",
       "      <td>-0.238569</td>\n",
       "      <td>0.146096</td>\n",
       "      <td>0.104256</td>\n",
       "      <td>0.165535</td>\n",
       "      <td>0.775458</td>\n",
       "      <td>-0.004015</td>\n",
       "      <td>1</td>\n",
       "    </tr>\n",
       "    <tr>\n",
       "      <td>...</td>\n",
       "      <td>...</td>\n",
       "      <td>...</td>\n",
       "      <td>...</td>\n",
       "      <td>...</td>\n",
       "      <td>...</td>\n",
       "      <td>...</td>\n",
       "      <td>...</td>\n",
       "      <td>...</td>\n",
       "    </tr>\n",
       "    <tr>\n",
       "      <td>763</td>\n",
       "      <td>-0.099973</td>\n",
       "      <td>0.056513</td>\n",
       "      <td>0.277410</td>\n",
       "      <td>0.118440</td>\n",
       "      <td>0.013523</td>\n",
       "      <td>-0.128470</td>\n",
       "      <td>0.495985</td>\n",
       "      <td>0</td>\n",
       "    </tr>\n",
       "    <tr>\n",
       "      <td>764</td>\n",
       "      <td>0.005555</td>\n",
       "      <td>0.007332</td>\n",
       "      <td>0.065288</td>\n",
       "      <td>-0.094326</td>\n",
       "      <td>0.071646</td>\n",
       "      <td>-0.056309</td>\n",
       "      <td>-0.104015</td>\n",
       "      <td>0</td>\n",
       "    </tr>\n",
       "    <tr>\n",
       "      <td>765</td>\n",
       "      <td>0.000530</td>\n",
       "      <td>0.023726</td>\n",
       "      <td>0.024884</td>\n",
       "      <td>0.038062</td>\n",
       "      <td>-0.086328</td>\n",
       "      <td>-0.096873</td>\n",
       "      <td>-0.054015</td>\n",
       "      <td>0</td>\n",
       "    </tr>\n",
       "    <tr>\n",
       "      <td>766</td>\n",
       "      <td>0.025656</td>\n",
       "      <td>-0.074635</td>\n",
       "      <td>-0.207439</td>\n",
       "      <td>-0.094326</td>\n",
       "      <td>-0.028205</td>\n",
       "      <td>-0.052466</td>\n",
       "      <td>0.229319</td>\n",
       "      <td>1</td>\n",
       "    </tr>\n",
       "    <tr>\n",
       "      <td>767</td>\n",
       "      <td>-0.140174</td>\n",
       "      <td>0.007332</td>\n",
       "      <td>0.105692</td>\n",
       "      <td>-0.094326</td>\n",
       "      <td>-0.023734</td>\n",
       "      <td>-0.066984</td>\n",
       "      <td>-0.170681</td>\n",
       "      <td>0</td>\n",
       "    </tr>\n",
       "  </tbody>\n",
       "</table>\n",
       "<p>768 rows × 8 columns</p>\n",
       "</div>"
      ],
      "text/plain": [
       "      Glucose  BloodPressure  SkinThickness   Insulin       BMI  \\\n",
       "0    0.136208       0.023726       0.146096 -0.094326  0.023956   \n",
       "1   -0.180375      -0.025455       0.085490 -0.094326 -0.080366   \n",
       "2    0.312088      -0.041848      -0.207439 -0.094326 -0.129547   \n",
       "3   -0.160274      -0.025455       0.024884  0.016785 -0.058012   \n",
       "4    0.080932      -0.238569       0.146096  0.104256  0.165535   \n",
       "..        ...            ...            ...       ...       ...   \n",
       "763 -0.099973       0.056513       0.277410  0.118440  0.013523   \n",
       "764  0.005555       0.007332       0.065288 -0.094326  0.071646   \n",
       "765  0.000530       0.023726       0.024884  0.038062 -0.086328   \n",
       "766  0.025656      -0.074635      -0.207439 -0.094326 -0.028205   \n",
       "767 -0.140174       0.007332       0.105692 -0.094326 -0.023734   \n",
       "\n",
       "     DiabetesPedigreeFunction       Age  Outcome  \n",
       "0                    0.066236  0.279319        1  \n",
       "1                   -0.051612 -0.037348        0  \n",
       "2                    0.085450 -0.020681        1  \n",
       "3                   -0.130178 -0.204015        0  \n",
       "4                    0.775458 -0.004015        1  \n",
       "..                        ...       ...      ...  \n",
       "763                 -0.128470  0.495985        0  \n",
       "764                 -0.056309 -0.104015        0  \n",
       "765                 -0.096873 -0.054015        0  \n",
       "766                 -0.052466  0.229319        1  \n",
       "767                 -0.066984 -0.170681        0  \n",
       "\n",
       "[768 rows x 8 columns]"
      ]
     },
     "execution_count": 4,
     "metadata": {},
     "output_type": "execute_result"
    }
   ],
   "source": [
    "data = pd.read_csv(\"diabetes_data.csv\", index_col = None, header = 0)\n",
    "# print(data)\n",
    "plot_data()\n",
    "data = scale_data(data)\n",
    "data"
   ]
  },
  {
   "cell_type": "code",
   "execution_count": 5,
   "metadata": {
    "colab": {},
    "colab_type": "code",
    "id": "z4uz_NtpW0y5"
   },
   "outputs": [],
   "source": [
    "# 70% of the data assigned to the train set\n",
    "train_size = int(0.7*len(data))\n",
    "train_set = data[:train_size]\n",
    "\n",
    "# 30% of the data assigned to the test set\n",
    "test_size = int(0.3*len(data))\n",
    "test_set = data[train_size:len(data)+1]"
   ]
  },
  {
   "cell_type": "code",
   "execution_count": 6,
   "metadata": {
    "colab": {},
    "colab_type": "code",
    "id": "egeoBh9IW0y8"
   },
   "outputs": [],
   "source": [
    "X = train_set.iloc[:, :-1].values # Taking out all the features (except for output column) from the data and storing into X\n",
    "X = np.concatenate((np.ones((X.shape[0], 1), dtype=float), X), axis=1)\n",
    "Y = train_set.iloc[:, -1].values  # The column that contains the result/output\n",
    "Y = Y.reshape((-1, 1)) # making the array n*1 shape"
   ]
  },
  {
   "cell_type": "code",
   "execution_count": 7,
   "metadata": {
    "colab": {},
    "colab_type": "code",
    "id": "fiK8adegW0y-"
   },
   "outputs": [],
   "source": [
    "def sigmoid(z):\n",
    "    g = 1.0 / (1 + np.exp(-z))\n",
    "    return g\n",
    "\n",
    "def cost(x, y, theta):\n",
    "    m = x.shape[0]\n",
    "    h = sigmoid(np.matmul(x, theta))\n",
    "    cost = (np.matmul(-y.T, np.log(h)) - np.matmul((1 -y.T), np.log(1 - h)))/m\n",
    "    return cost\n",
    "\n",
    "def gradient_Descent(theta, alpha, x , y):\n",
    "    m = x.shape[0]\n",
    "    h = sigmoid(np.matmul(x, theta))\n",
    "    grad = np.matmul(X.T, (h - y)) / m;\n",
    "    theta = theta - alpha * grad\n",
    "    return theta\n",
    "\n",
    "\n",
    "def predict(test_data, Theta, Y_test):\n",
    "    h = sigmoid(np.matmul(test_data, Theta))\n",
    "    predicted_classes = (h > .5).astype(int)\n",
    "    accuracy = np.mean(predicted_classes == Y_test)\n",
    "    return accuracy * 100, (h > .5).astype(int)"
   ]
  },
  {
   "cell_type": "code",
   "execution_count": 8,
   "metadata": {
    "colab": {},
    "colab_type": "code",
    "id": "nGUvIA9uW0zB"
   },
   "outputs": [],
   "source": [
    "# Initialization part\n",
    "np.random.seed(0) # prevents from having different random nums each time code runs\n",
    "Theta = np.random.uniform(0, 1, size = (X.shape[1], 1)) #this is our weight vectors"
   ]
  },
  {
   "cell_type": "code",
   "execution_count": null,
   "metadata": {
    "colab": {
     "base_uri": "https://localhost:8080/",
     "height": 1000
    },
    "colab_type": "code",
    "executionInfo": {
     "elapsed": 7931,
     "status": "ok",
     "timestamp": 1584022331198,
     "user": {
      "displayName": "Khalid Saifullah",
      "photoUrl": "https://lh3.googleusercontent.com/a-/AOh14Gj_MeQufQvSNr_z_NKJLRhQVH2vWB1E-_fnwg5bdQ=s64",
      "userId": "15265892266278113921"
     },
     "user_tz": -360
    },
    "id": "t1Sb-B22q1Rk",
    "outputId": "832c6047-a711-4359-81d1-c54820e00a6f"
   },
   "outputs": [],
   "source": [
    "iterations = 100000\n",
    "learning_rate = 0.05\n",
    "costs = np.zeros(iterations)\n",
    "for i in range(iterations):\n",
    "    Theta = gradient_Descent(Theta, learning_rate, X, Y)\n",
    "    costs[i] = (cost(X, Y, Theta))\n",
    "    if i % 50 == 0:\n",
    "        print(cost(X, Y, Theta))"
   ]
  },
  {
   "cell_type": "code",
   "execution_count": 10,
   "metadata": {
    "colab": {
     "base_uri": "https://localhost:8080/",
     "height": 35
    },
    "colab_type": "code",
    "executionInfo": {
     "elapsed": 3483,
     "status": "ok",
     "timestamp": 1584022344371,
     "user": {
      "displayName": "Khalid Saifullah",
      "photoUrl": "https://lh3.googleusercontent.com/a-/AOh14Gj_MeQufQvSNr_z_NKJLRhQVH2vWB1E-_fnwg5bdQ=s64",
      "userId": "15265892266278113921"
     },
     "user_tz": -360
    },
    "id": "RyZmBag-W0zF",
    "outputId": "a441701a-3f27-483a-e281-106fbaab7248"
   },
   "outputs": [
    {
     "name": "stdout",
     "output_type": "stream",
     "text": [
      "Accuracy: 77.92%\n"
     ]
    }
   ],
   "source": [
    "X_test = test_set.iloc[:, :-1].values\n",
    "X_test = np.hstack((np.ones([X_test.shape[0],1]), X_test))\n",
    "Y_test = test_set.iloc[:, -1].values  # The column that contains the result/output\n",
    "Y_test = Y_test.reshape((-1, 1)) # making the array n*1 shape\n",
    "accuracy, predicted_classes = predict(X_test, Theta, Y_test)\n",
    "print(\"Accuracy:\", \"{:.2f}%\".format(accuracy))"
   ]
  },
  {
   "cell_type": "code",
   "execution_count": 12,
   "metadata": {},
   "outputs": [
    {
     "data": {
      "image/png": "[encoded data removed]",
      "text/plain": [
       "<Figure size 432x288 with 1 Axes>"
      ]
     },
     "metadata": {
      "needs_background": "light"
     },
     "output_type": "display_data"
    },
    {
     "data": {
      "text/plain": [
       "Text(0.5, 1.0, 'Cost vs Iterations Analysis')"
      ]
     },
     "execution_count": 12,
     "metadata": {},
     "output_type": "execute_result"
    },
    {
     "data": {
      "image/png": "[encoded data removed]",
      "text/plain": [
       "<Figure size 432x288 with 1 Axes>"
      ]
     },
     "metadata": {
      "needs_background": "light"
     },
     "output_type": "display_data"
    }
   ],
   "source": [
    "# y = target values, last column of the data frame\n",
    "y = test_set.iloc[:, -1]\n",
    "# filter out the people who has diabetes\n",
    "has_diabetes = test_set.loc[y == 1]\n",
    "# filter out the people who doesn't have diabetes\n",
    "no_diabetes = test_set.loc[y == 0]\n",
    "# plots\n",
    "plt.scatter(has_diabetes.iloc[:, 0], has_diabetes.iloc[:, 1], s=10, label='has_diabetes')\n",
    "plt.scatter(no_diabetes.iloc[:, 0], no_diabetes.iloc[:, 1], s=10, label='no_diabetes')\n",
    "plt.legend()\n",
    "plt.show()\n",
    "\n",
    "# Plotting Line Plot for Number of Iterations vs MSE\n",
    "plt.scatter(range(iterations),costs)\n",
    "plt.xlabel('Number of Iterations')\n",
    "plt.ylabel('Mean Squared Error')\n",
    "plt.title('Cost vs Iterations Analysis')"
   ]
  }
 ],
 "metadata": {
  "colab": {
   "collapsed_sections": [],
   "name": "Diabetes Predictor (Gradient_Descent).ipynb",
   "provenance": [],
   "toc_visible": true
  },
  "kernelspec": {
   "display_name": "Python 3",
   "language": "python",
   "name": "python3"
  },
  "language_info": {
   "codemirror_mode": {
    "name": "ipython",
    "version": 3
   },
   "file_extension": ".py",
   "mimetype": "text/x-python",
   "name": "python",
   "nbconvert_exporter": "python",
   "pygments_lexer": "ipython3",
   "version": "3.7.4"
  }
 },
 "nbformat": 4,
 "nbformat_minor": 1
}
