{
 "cells": [
  {
   "cell_type": "code",
   "execution_count": 2,
   "metadata": {},
   "outputs": [],
   "source": [
    "import numpy as np\n",
    "import pandas as pd\n",
    "import matplotlib.pyplot as plt"
   ]
  },
  {
   "cell_type": "code",
   "execution_count": 3,
   "metadata": {},
   "outputs": [],
   "source": [
    "data = pd.read_csv('movies_recommendation_data.csv', index_col=1, header=0)"
   ]
  },
  {
   "cell_type": "code",
   "execution_count": 4,
   "metadata": {},
   "outputs": [],
   "source": [
    "# 60% of the data assigned to the train set\n",
    "train_set = data[:18]\n",
    "\n",
    "# 40% of the data assigned to the test set\n",
    "test_set = data[18:len(data)]"
   ]
  },
  {
   "cell_type": "code",
   "execution_count": 5,
   "metadata": {},
   "outputs": [],
   "source": [
    "# Euclidean distance i.e. √(x2−x1)2+(y2−y1)2\n",
    "def calculate_distance(movie1, movie2):\n",
    "    \n",
    "    imdb_distance = (movie2[\"IMDB Rating\"] - movie1[\"IMDB Rating\"])**2 \n",
    "    \n",
    "    biography_distance = (movie2[\"Biography\"] - movie1[\"Biography\"])**2\n",
    "    \n",
    "    drama_distance = (movie2[\"Drama\"] - movie1[\"Drama\"])**2\n",
    "    \n",
    "    thriller_distance = (movie2[\"Thriller\"] - movie1[\"Thriller\"])**2\n",
    "    \n",
    "    comedy_distance = (movie2[\"Comedy\"] - movie1[\"Comedy\"])**2\n",
    "    \n",
    "    crime_distance = (movie2[\"Crime\"] - movie1[\"Crime\"])**2\n",
    "    \n",
    "    mystery_distance = (movie2[\"Mystery\"] - movie1[\"Mystery\"])**2\n",
    "    \n",
    "    history_distance = (movie2[\"History\"] - movie1[\"History\"])**2\n",
    "    \n",
    "    total_distance = np.sqrt(imdb_distance + biography_distance + drama_distance\n",
    "                         + thriller_distance + comedy_distance + crime_distance\n",
    "                         + mystery_distance + history_distance)\n",
    "    \n",
    "    return total_distance"
   ]
  },
  {
   "cell_type": "code",
   "execution_count": 20,
   "metadata": {},
   "outputs": [],
   "source": [
    "query = \"Queen of Katwe\"\n",
    "k = 5\n",
    "\n",
    "# A list to insert the neighbor's distances\n",
    "ordered_collection = []\n",
    "\n",
    "#KNN Algorithm\n",
    "for name in train_set.index:\n",
    "\n",
    "    current_example = train_set.loc[name]\n",
    "    \n",
    "    query_example = test_set.loc[query]\n",
    "\n",
    "    distance = calculate_distance(current_example, query_example)\n",
    "    \n",
    "    ordered_collection.append({\"name\": name, \"distance\": distance})\n"
   ]
  },
  {
   "cell_type": "code",
   "execution_count": 21,
   "metadata": {},
   "outputs": [
    {
     "name": "stdout",
     "output_type": "stream",
     "text": [
      "The Wind Rises (has a distance of 0.39999999999999947)\n",
      "A Beautiful Mind (has a distance of 0.7999999999999989)\n",
      "Gifted (has a distance of 1.0198039027185568)\n",
      "The Karate Kid (has a distance of 1.019803902718557)\n",
      "A Brilliant Young Mind (has a distance of 1.019803902718557)\n"
     ]
    }
   ],
   "source": [
    "# Sorting the ordered collection\n",
    "ordered_collection = sorted(ordered_collection, key = lambda i: i[\"distance\"])\n",
    "\n",
    "# picking K entries from the sorted collection\n",
    "for i in range(k):\n",
    "    print(f'{ordered_collection[i][\"name\"]} (has a distance of {ordered_collection[i][\"distance\"]})')"
   ]
  }
 ],
 "metadata": {
  "kernelspec": {
   "display_name": "Python 3",
   "language": "python",
   "name": "python3"
  },
  "language_info": {
   "codemirror_mode": {
    "name": "ipython",
    "version": 3
   },
   "file_extension": ".py",
   "mimetype": "text/x-python",
   "name": "python",
   "nbconvert_exporter": "python",
   "pygments_lexer": "ipython3",
   "version": "3.7.4"
  }
 },
 "nbformat": 4,
 "nbformat_minor": 2
}
